{
 "cells": [
  {
   "cell_type": "code",
   "execution_count": 23,
   "metadata": {
    "scrolled": true
   },
   "outputs": [],
   "source": [
    "import pandas as pd\n",
    "import numpy as np\n",
    "from nltk import *\n",
    "import re"
   ]
  },
  {
   "cell_type": "code",
   "execution_count": 52,
   "metadata": {
    "scrolled": false
   },
   "outputs": [
    {
     "data": {
      "text/plain": [
       "id                      10866\n",
       "imdb_id                 10856\n",
       "popularity              10866\n",
       "budget                  10866\n",
       "revenue                 10866\n",
       "original_title          10866\n",
       "cast                    10790\n",
       "homepage                 2936\n",
       "director                10822\n",
       "tagline                  8042\n",
       "keywords                 9373\n",
       "overview                10862\n",
       "runtime                 10866\n",
       "genres                  10843\n",
       "production_companies     9836\n",
       "release_date            10866\n",
       "vote_count              10866\n",
       "vote_average            10866\n",
       "release_year            10866\n",
       "budget_adj              10866\n",
       "revenue_adj             10866\n",
       "dtype: int64"
      ]
     },
     "execution_count": 52,
     "metadata": {},
     "output_type": "execute_result"
    }
   ],
   "source": [
    "df = pd.read_csv('tmdb_movies_data.csv')\n",
    "df.head()\n",
    "df.count()"
   ]
  },
  {
   "cell_type": "code",
   "execution_count": 25,
   "metadata": {},
   "outputs": [
    {
     "data": {
      "text/plain": [
       "id                      10866\n",
       "imdb_id                 10856\n",
       "popularity              10866\n",
       "budget                  10866\n",
       "revenue                 10866\n",
       "original_title          10866\n",
       "cast                    10790\n",
       "homepage                 2936\n",
       "director                10822\n",
       "tagline                  8042\n",
       "keywords                 9373\n",
       "overview                10862\n",
       "runtime                 10866\n",
       "genres                  10843\n",
       "production_companies     9836\n",
       "release_date            10866\n",
       "vote_count              10866\n",
       "vote_average            10866\n",
       "release_year            10866\n",
       "budget_adj              10866\n",
       "revenue_adj             10866\n",
       "dtype: int64"
      ]
     },
     "execution_count": 25,
     "metadata": {},
     "output_type": "execute_result"
    }
   ],
   "source": [
    "df.describe()\n",
    "#df.count()"
   ]
  },
  {
   "cell_type": "code",
   "execution_count": 53,
   "metadata": {},
   "outputs": [
    {
     "name": "stderr",
     "output_type": "stream",
     "text": [
      "C:\\Users\\ASUS\\AppData\\Local\\Temp\\ipykernel_11048\\1776468526.py:1: UserWarning: Boolean Series key will be reindexed to match DataFrame index.\n",
      "  df = df[df['vote_average'] >6][df['vote_count']>50]\n"
     ]
    },
    {
     "data": {
      "text/plain": [
       "id                      2769\n",
       "imdb_id                 2769\n",
       "popularity              2769\n",
       "budget                  2769\n",
       "revenue                 2769\n",
       "original_title          2769\n",
       "cast                    2758\n",
       "homepage                1049\n",
       "director                2769\n",
       "tagline                 2481\n",
       "keywords                2672\n",
       "overview                2769\n",
       "runtime                 2769\n",
       "genres                  2768\n",
       "production_companies    2742\n",
       "release_date            2769\n",
       "vote_count              2769\n",
       "vote_average            2769\n",
       "release_year            2769\n",
       "budget_adj              2769\n",
       "revenue_adj             2769\n",
       "dtype: int64"
      ]
     },
     "execution_count": 53,
     "metadata": {},
     "output_type": "execute_result"
    }
   ],
   "source": [
    "df = df[df['vote_average'] >6][df['vote_count']>50]\n",
    "df.head()\n",
    "df.count()"
   ]
  },
  {
   "cell_type": "code",
   "execution_count": 27,
   "metadata": {},
   "outputs": [
    {
     "data": {
      "text/plain": [
       "Index(['id', 'imdb_id', 'popularity', 'budget', 'revenue', 'original_title',\n",
       "       'cast', 'homepage', 'director', 'tagline', 'keywords', 'overview',\n",
       "       'runtime', 'genres', 'production_companies', 'release_date',\n",
       "       'vote_count', 'vote_average', 'release_year', 'budget_adj',\n",
       "       'revenue_adj'],\n",
       "      dtype='object')"
      ]
     },
     "execution_count": 27,
     "metadata": {},
     "output_type": "execute_result"
    }
   ],
   "source": [
    "df.columns"
   ]
  },
  {
   "cell_type": "code",
   "execution_count": 28,
   "metadata": {},
   "outputs": [],
   "source": [
    "df = df[['popularity', 'budget', 'revenue', 'original_title',\n",
    "       'cast', 'director', 'keywords', 'overview', 'genres', 'vote_average', 'imdb_id']]"
   ]
  },
  {
   "cell_type": "code",
   "execution_count": 29,
   "metadata": {},
   "outputs": [],
   "source": [
    "df['net_profit'] = df['revenue'] - df['budget']\n",
    "df = df.drop(['budget', 'revenue'], axis=1)"
   ]
  },
  {
   "cell_type": "code",
   "execution_count": 30,
   "metadata": {},
   "outputs": [],
   "source": [
    "def verticalBar_remover(df, col_name):\n",
    "    new = []\n",
    "    for item in df[col_name]:\n",
    "        if type(item) != str:\n",
    "            item = str(item)\n",
    "    # Alternative code to get str out of list # \" \".join(['sahaj', 'oo'])\n",
    "            \n",
    "        y = ''\n",
    "        for i in item.split('|'):\n",
    "            y = y + ' ' + i.replace(\" \", \"\")   #y = y + ',' + ' ' + i\n",
    "                 \n",
    "        new.append(y.strip())\n",
    "    #print(new)\n",
    "    df[col_name] = new"
   ]
  },
  {
   "cell_type": "code",
   "execution_count": 31,
   "metadata": {},
   "outputs": [],
   "source": [
    "clean_df = df\n",
    "for col_name in ['cast','director', 'keywords', 'genres']:\n",
    "    verticalBar_remover(clean_df, col_name)"
   ]
  },
  {
   "cell_type": "code",
   "execution_count": 32,
   "metadata": {},
   "outputs": [],
   "source": [
    "from sklearn.feature_extraction.text import CountVectorizer\n",
    "from sklearn.metrics.pairwise import cosine_similarity"
   ]
  },
  {
   "cell_type": "code",
   "execution_count": 33,
   "metadata": {},
   "outputs": [],
   "source": [
    "from nltk.corpus import stopwords \n",
    "\n",
    "def tokeniser(df, col):\n",
    "    sw = list(set(stopwords.words('english'))) + ['.', ',', '?']\n",
    "    li = []\n",
    "    for sentt in df[col]:\n",
    "        words = word_tokenize(str(sentt).lower())\n",
    "        words = [w for w in words if w not in sw]\n",
    "        final = ''\n",
    "        for x in words:\n",
    "            final = final + \" \" + x\n",
    "        li.append(final)\n",
    "    df[col] = li\n",
    "\n",
    "tokeniser(clean_df, 'overview')"
   ]
  },
  {
   "cell_type": "code",
   "execution_count": 34,
   "metadata": {},
   "outputs": [
    {
     "data": {
      "text/html": [
       "<div>\n",
       "<style scoped>\n",
       "    .dataframe tbody tr th:only-of-type {\n",
       "        vertical-align: middle;\n",
       "    }\n",
       "\n",
       "    .dataframe tbody tr th {\n",
       "        vertical-align: top;\n",
       "    }\n",
       "\n",
       "    .dataframe thead th {\n",
       "        text-align: right;\n",
       "    }\n",
       "</style>\n",
       "<table border=\"1\" class=\"dataframe\">\n",
       "  <thead>\n",
       "    <tr style=\"text-align: right;\">\n",
       "      <th></th>\n",
       "      <th>popularity</th>\n",
       "      <th>original_title</th>\n",
       "      <th>cast</th>\n",
       "      <th>director</th>\n",
       "      <th>keywords</th>\n",
       "      <th>overview</th>\n",
       "      <th>genres</th>\n",
       "      <th>vote_average</th>\n",
       "      <th>imdb_id</th>\n",
       "      <th>net_profit</th>\n",
       "    </tr>\n",
       "  </thead>\n",
       "  <tbody>\n",
       "    <tr>\n",
       "      <th>0</th>\n",
       "      <td>1.000</td>\n",
       "      <td>Jurassic World</td>\n",
       "      <td>ChrisPratt BryceDallasHoward IrrfanKhan Vincen...</td>\n",
       "      <td>ColinTrevorrow</td>\n",
       "      <td>monster dna tyrannosaurusrex velociraptor island</td>\n",
       "      <td>twenty-two years events jurassic park isla nu...</td>\n",
       "      <td>Action Adventure ScienceFiction Thriller</td>\n",
       "      <td>0.167</td>\n",
       "      <td>tt0369610</td>\n",
       "      <td>0.601</td>\n",
       "    </tr>\n",
       "    <tr>\n",
       "      <th>1</th>\n",
       "      <td>0.862</td>\n",
       "      <td>Mad Max: Fury Road</td>\n",
       "      <td>TomHardy CharlizeTheron HughKeays-Byrne Nichol...</td>\n",
       "      <td>GeorgeMiller</td>\n",
       "      <td>future chase post-apocalyptic dystopia australia</td>\n",
       "      <td>apocalyptic story set furthest reaches planet...</td>\n",
       "      <td>Action Adventure ScienceFiction Thriller</td>\n",
       "      <td>0.417</td>\n",
       "      <td>tt1392190</td>\n",
       "      <td>0.217</td>\n",
       "    </tr>\n",
       "    <tr>\n",
       "      <th>2</th>\n",
       "      <td>0.398</td>\n",
       "      <td>Insurgent</td>\n",
       "      <td>ShaileneWoodley TheoJames KateWinslet AnselElg...</td>\n",
       "      <td>RobertSchwentke</td>\n",
       "      <td>basedonnovel revolution dystopia sequel dystop...</td>\n",
       "      <td>beatrice prior must confront inner demons con...</td>\n",
       "      <td>Adventure ScienceFiction Thriller</td>\n",
       "      <td>0.083</td>\n",
       "      <td>tt2908446</td>\n",
       "      <td>0.203</td>\n",
       "    </tr>\n",
       "    <tr>\n",
       "      <th>3</th>\n",
       "      <td>0.339</td>\n",
       "      <td>Star Wars: The Force Awakens</td>\n",
       "      <td>HarrisonFord MarkHamill CarrieFisher AdamDrive...</td>\n",
       "      <td>J.J.Abrams</td>\n",
       "      <td>android spaceship jedi spaceopera 3d</td>\n",
       "      <td>thirty years defeating galactic empire han so...</td>\n",
       "      <td>Action Adventure ScienceFiction Fantasy</td>\n",
       "      <td>0.583</td>\n",
       "      <td>tt2488496</td>\n",
       "      <td>0.771</td>\n",
       "    </tr>\n",
       "    <tr>\n",
       "      <th>4</th>\n",
       "      <td>0.283</td>\n",
       "      <td>Furious 7</td>\n",
       "      <td>VinDiesel PaulWalker JasonStatham MichelleRodr...</td>\n",
       "      <td>JamesWan</td>\n",
       "      <td>carrace speed revenge suspense car</td>\n",
       "      <td>deckard shaw seeks revenge dominic toretto fa...</td>\n",
       "      <td>Action Crime Thriller</td>\n",
       "      <td>0.500</td>\n",
       "      <td>tt2820852</td>\n",
       "      <td>0.585</td>\n",
       "    </tr>\n",
       "  </tbody>\n",
       "</table>\n",
       "</div>"
      ],
      "text/plain": [
       "   popularity                original_title  \\\n",
       "0       1.000                Jurassic World   \n",
       "1       0.862            Mad Max: Fury Road   \n",
       "2       0.398                     Insurgent   \n",
       "3       0.339  Star Wars: The Force Awakens   \n",
       "4       0.283                     Furious 7   \n",
       "\n",
       "                                                cast         director  \\\n",
       "0  ChrisPratt BryceDallasHoward IrrfanKhan Vincen...   ColinTrevorrow   \n",
       "1  TomHardy CharlizeTheron HughKeays-Byrne Nichol...     GeorgeMiller   \n",
       "2  ShaileneWoodley TheoJames KateWinslet AnselElg...  RobertSchwentke   \n",
       "3  HarrisonFord MarkHamill CarrieFisher AdamDrive...       J.J.Abrams   \n",
       "4  VinDiesel PaulWalker JasonStatham MichelleRodr...         JamesWan   \n",
       "\n",
       "                                            keywords  \\\n",
       "0   monster dna tyrannosaurusrex velociraptor island   \n",
       "1   future chase post-apocalyptic dystopia australia   \n",
       "2  basedonnovel revolution dystopia sequel dystop...   \n",
       "3               android spaceship jedi spaceopera 3d   \n",
       "4                 carrace speed revenge suspense car   \n",
       "\n",
       "                                            overview  \\\n",
       "0   twenty-two years events jurassic park isla nu...   \n",
       "1   apocalyptic story set furthest reaches planet...   \n",
       "2   beatrice prior must confront inner demons con...   \n",
       "3   thirty years defeating galactic empire han so...   \n",
       "4   deckard shaw seeks revenge dominic toretto fa...   \n",
       "\n",
       "                                     genres  vote_average    imdb_id  \\\n",
       "0  Action Adventure ScienceFiction Thriller         0.167  tt0369610   \n",
       "1  Action Adventure ScienceFiction Thriller         0.417  tt1392190   \n",
       "2         Adventure ScienceFiction Thriller         0.083  tt2908446   \n",
       "3   Action Adventure ScienceFiction Fantasy         0.583  tt2488496   \n",
       "4                     Action Crime Thriller         0.500  tt2820852   \n",
       "\n",
       "   net_profit  \n",
       "0       0.601  \n",
       "1       0.217  \n",
       "2       0.203  \n",
       "3       0.771  \n",
       "4       0.585  "
      ]
     },
     "execution_count": 34,
     "metadata": {},
     "output_type": "execute_result"
    }
   ],
   "source": [
    "def numbers_normalised(df, col_list):\n",
    "    for col in col_list:\n",
    "        maxx = df[col].max()\n",
    "        minn = df[col].min()\n",
    "        df[col] = round((df[col] - minn) / (maxx - minn), 3) \n",
    "    return df.head()\n",
    "\n",
    "numbers_normalised(clean_df, ['popularity', 'vote_average', 'net_profit' ])"
   ]
  },
  {
   "cell_type": "code",
   "execution_count": 35,
   "metadata": {},
   "outputs": [],
   "source": [
    "clean_df['final_numeric_weights'] = clean_df['vote_average'] + clean_df['net_profit'] + clean_df['popularity']"
   ]
  },
  {
   "cell_type": "code",
   "execution_count": 36,
   "metadata": {},
   "outputs": [
    {
     "data": {
      "text/html": [
       "<div>\n",
       "<style scoped>\n",
       "    .dataframe tbody tr th:only-of-type {\n",
       "        vertical-align: middle;\n",
       "    }\n",
       "\n",
       "    .dataframe tbody tr th {\n",
       "        vertical-align: top;\n",
       "    }\n",
       "\n",
       "    .dataframe thead th {\n",
       "        text-align: right;\n",
       "    }\n",
       "</style>\n",
       "<table border=\"1\" class=\"dataframe\">\n",
       "  <thead>\n",
       "    <tr style=\"text-align: right;\">\n",
       "      <th></th>\n",
       "      <th>original_title</th>\n",
       "      <th>cast</th>\n",
       "      <th>director</th>\n",
       "      <th>keywords</th>\n",
       "      <th>genres</th>\n",
       "      <th>imdb_id</th>\n",
       "      <th>final_numeric_weights</th>\n",
       "    </tr>\n",
       "  </thead>\n",
       "  <tbody>\n",
       "    <tr>\n",
       "      <th>0</th>\n",
       "      <td>jurassic world</td>\n",
       "      <td>chrispratt brycedallashoward irrfankhan vincen...</td>\n",
       "      <td>colintrevorrow</td>\n",
       "      <td>monster dna tyrannosaurusrex velociraptor island</td>\n",
       "      <td>action adventure sciencefiction thriller</td>\n",
       "      <td>tt0369610</td>\n",
       "      <td>1.768</td>\n",
       "    </tr>\n",
       "    <tr>\n",
       "      <th>1</th>\n",
       "      <td>mad max: fury road</td>\n",
       "      <td>tomhardy charlizetheron hughkeays-byrne nichol...</td>\n",
       "      <td>georgemiller</td>\n",
       "      <td>future chase post-apocalyptic dystopia australia</td>\n",
       "      <td>action adventure sciencefiction thriller</td>\n",
       "      <td>tt1392190</td>\n",
       "      <td>1.496</td>\n",
       "    </tr>\n",
       "    <tr>\n",
       "      <th>2</th>\n",
       "      <td>insurgent</td>\n",
       "      <td>shailenewoodley theojames katewinslet anselelg...</td>\n",
       "      <td>robertschwentke</td>\n",
       "      <td>basedonnovel revolution dystopia sequel dystop...</td>\n",
       "      <td>adventure sciencefiction thriller</td>\n",
       "      <td>tt2908446</td>\n",
       "      <td>0.684</td>\n",
       "    </tr>\n",
       "    <tr>\n",
       "      <th>3</th>\n",
       "      <td>star wars: the force awakens</td>\n",
       "      <td>harrisonford markhamill carriefisher adamdrive...</td>\n",
       "      <td>j.j.abrams</td>\n",
       "      <td>android spaceship jedi spaceopera 3d</td>\n",
       "      <td>action adventure sciencefiction fantasy</td>\n",
       "      <td>tt2488496</td>\n",
       "      <td>1.693</td>\n",
       "    </tr>\n",
       "    <tr>\n",
       "      <th>4</th>\n",
       "      <td>furious 7</td>\n",
       "      <td>vindiesel paulwalker jasonstatham michellerodr...</td>\n",
       "      <td>jameswan</td>\n",
       "      <td>carrace speed revenge suspense car</td>\n",
       "      <td>action crime thriller</td>\n",
       "      <td>tt2820852</td>\n",
       "      <td>1.368</td>\n",
       "    </tr>\n",
       "  </tbody>\n",
       "</table>\n",
       "</div>"
      ],
      "text/plain": [
       "                 original_title  \\\n",
       "0                jurassic world   \n",
       "1            mad max: fury road   \n",
       "2                     insurgent   \n",
       "3  star wars: the force awakens   \n",
       "4                     furious 7   \n",
       "\n",
       "                                                cast         director  \\\n",
       "0  chrispratt brycedallashoward irrfankhan vincen...   colintrevorrow   \n",
       "1  tomhardy charlizetheron hughkeays-byrne nichol...     georgemiller   \n",
       "2  shailenewoodley theojames katewinslet anselelg...  robertschwentke   \n",
       "3  harrisonford markhamill carriefisher adamdrive...       j.j.abrams   \n",
       "4  vindiesel paulwalker jasonstatham michellerodr...         jameswan   \n",
       "\n",
       "                                            keywords  \\\n",
       "0   monster dna tyrannosaurusrex velociraptor island   \n",
       "1   future chase post-apocalyptic dystopia australia   \n",
       "2  basedonnovel revolution dystopia sequel dystop...   \n",
       "3               android spaceship jedi spaceopera 3d   \n",
       "4                 carrace speed revenge suspense car   \n",
       "\n",
       "                                     genres    imdb_id  final_numeric_weights  \n",
       "0  action adventure sciencefiction thriller  tt0369610                  1.768  \n",
       "1  action adventure sciencefiction thriller  tt1392190                  1.496  \n",
       "2         adventure sciencefiction thriller  tt2908446                  0.684  \n",
       "3   action adventure sciencefiction fantasy  tt2488496                  1.693  \n",
       "4                     action crime thriller  tt2820852                  1.368  "
      ]
     },
     "execution_count": 36,
     "metadata": {},
     "output_type": "execute_result"
    }
   ],
   "source": [
    "# Left out overview from dataframe\n",
    "textual_df = clean_df[['original_title' , 'cast', 'director','keywords', 'genres', 'imdb_id']].apply(lambda x: x.astype(str).str.lower())\n",
    "numeric_df = clean_df['final_numeric_weights']\n",
    "#type(numeric_df['net_profit'][0])\n",
    "final_df = textual_df.merge(numeric_df, left_index=True, right_index=True)\n",
    "# final_df['text'] = final_df['cast'] + final_df['director'] + final_df['genres'] + final_df['keywords']\n",
    "# final_df = final_df[['text', 'popularity', 'vote_average', 'net_profit' ]]\n",
    "final_df.head()"
   ]
  },
  {
   "cell_type": "code",
   "execution_count": 57,
   "metadata": {},
   "outputs": [],
   "source": [
    "final_df.to_csv(r'C:/Users/ASUS/Desktop/RecommendAll/final_df_movies.csv')"
   ]
  },
  {
   "cell_type": "code",
   "execution_count": 58,
   "metadata": {},
   "outputs": [
    {
     "data": {
      "text/plain": [
       "original_title           2769\n",
       "cast                     2769\n",
       "director                 2769\n",
       "keywords                 2769\n",
       "genres                   2769\n",
       "imdb_id                  2769\n",
       "final_numeric_weights    2769\n",
       "text                     2769\n",
       "dtype: int64"
      ]
     },
     "execution_count": 58,
     "metadata": {},
     "output_type": "execute_result"
    }
   ],
   "source": [
    "final_df.count()"
   ]
  },
  {
   "cell_type": "markdown",
   "metadata": {},
   "source": [
    "# all in 1 count vec"
   ]
  },
  {
   "cell_type": "code",
   "execution_count": 37,
   "metadata": {},
   "outputs": [
    {
     "data": {
      "text/plain": [
       "0    chrispratt brycedallashoward irrfankhan vincen...\n",
       "Name: text, dtype: object"
      ]
     },
     "execution_count": 37,
     "metadata": {},
     "output_type": "execute_result"
    }
   ],
   "source": [
    "####### All textual data in one col\n",
    "test = final_df\n",
    "test['text'] = final_df['cast'] + final_df['director'] + final_df['genres'] + final_df['keywords']\n",
    "test = test['text']\n",
    "test[:1]"
   ]
  },
  {
   "cell_type": "code",
   "execution_count": 38,
   "metadata": {},
   "outputs": [],
   "source": [
    "cvv = CountVectorizer()\n",
    "text_vectorised = cvv.fit_transform(test).toarray()"
   ]
  },
  {
   "cell_type": "code",
   "execution_count": 60,
   "metadata": {},
   "outputs": [],
   "source": [
    "cos_sim_text = cosine_similarity(text_vectorised, text_vectorised)\n",
    "np.save(r'C:/Users/ASUS/Desktop/RecommendAll/cos_sim_movies3',cos_sim_text)"
   ]
  },
  {
   "cell_type": "code",
   "execution_count": 42,
   "metadata": {},
   "outputs": [
    {
     "ename": "IndexError",
     "evalue": "index 0 is out of bounds for axis 0 with size 0",
     "output_type": "error",
     "traceback": [
      "\u001b[1;31m---------------------------------------------------------------------------\u001b[0m",
      "\u001b[1;31mIndexError\u001b[0m                                Traceback (most recent call last)",
      "\u001b[1;32m~\\AppData\\Local\\Temp\\ipykernel_11048\\1847408520.py\u001b[0m in \u001b[0;36m<module>\u001b[1;34m\u001b[0m\n\u001b[0;32m      2\u001b[0m \u001b[0midx\u001b[0m \u001b[1;33m=\u001b[0m \u001b[0mfinal_df\u001b[0m\u001b[1;33m[\u001b[0m\u001b[0mfinal_df\u001b[0m\u001b[1;33m[\u001b[0m\u001b[1;34m'original_title'\u001b[0m\u001b[1;33m]\u001b[0m \u001b[1;33m==\u001b[0m \u001b[0mmovies\u001b[0m \u001b[1;33m]\u001b[0m\u001b[1;33m.\u001b[0m\u001b[0mindex\u001b[0m\u001b[1;33m\u001b[0m\u001b[1;33m\u001b[0m\u001b[0m\n\u001b[0;32m      3\u001b[0m \u001b[1;33m\u001b[0m\u001b[0m\n\u001b[1;32m----> 4\u001b[1;33m \u001b[0mtext_10\u001b[0m \u001b[1;33m=\u001b[0m \u001b[0mpd\u001b[0m\u001b[1;33m.\u001b[0m\u001b[0mSeries\u001b[0m\u001b[1;33m(\u001b[0m\u001b[0mcos_sim_text\u001b[0m\u001b[1;33m[\u001b[0m\u001b[0midx\u001b[0m\u001b[1;33m]\u001b[0m\u001b[1;33m[\u001b[0m\u001b[1;36m0\u001b[0m\u001b[1;33m]\u001b[0m\u001b[1;33m)\u001b[0m\u001b[1;33m.\u001b[0m\u001b[0msort_values\u001b[0m\u001b[1;33m(\u001b[0m\u001b[0mascending\u001b[0m\u001b[1;33m=\u001b[0m\u001b[1;32mFalse\u001b[0m\u001b[1;33m)\u001b[0m\u001b[1;33m[\u001b[0m\u001b[1;33m:\u001b[0m\u001b[1;36m10\u001b[0m\u001b[1;33m]\u001b[0m\u001b[1;33m\u001b[0m\u001b[1;33m\u001b[0m\u001b[0m\n\u001b[0m\u001b[0;32m      5\u001b[0m \u001b[0mtext_idx\u001b[0m \u001b[1;33m=\u001b[0m \u001b[0mtext_10\u001b[0m\u001b[1;33m.\u001b[0m\u001b[0mindex\u001b[0m\u001b[1;33m\u001b[0m\u001b[1;33m\u001b[0m\u001b[0m\n\u001b[0;32m      6\u001b[0m \u001b[0mtext_recom_idx\u001b[0m \u001b[1;33m=\u001b[0m \u001b[1;33m(\u001b[0m\u001b[0mtext_10\u001b[0m \u001b[1;33m+\u001b[0m \u001b[0mfinal_df\u001b[0m\u001b[1;33m[\u001b[0m\u001b[1;34m'final_numeric_weights'\u001b[0m\u001b[1;33m]\u001b[0m\u001b[1;33m.\u001b[0m\u001b[0mloc\u001b[0m\u001b[1;33m[\u001b[0m\u001b[0mtext_idx\u001b[0m\u001b[1;33m]\u001b[0m\u001b[1;33m)\u001b[0m\u001b[1;33m.\u001b[0m\u001b[0msort_values\u001b[0m\u001b[1;33m(\u001b[0m\u001b[0mascending\u001b[0m\u001b[1;33m=\u001b[0m\u001b[1;32mFalse\u001b[0m\u001b[1;33m)\u001b[0m\u001b[1;33m.\u001b[0m\u001b[0mindex\u001b[0m\u001b[1;33m\u001b[0m\u001b[1;33m\u001b[0m\u001b[0m\n",
      "\u001b[1;31mIndexError\u001b[0m: index 0 is out of bounds for axis 0 with size 0"
     ]
    }
   ],
   "source": [
    "movies = 'furious'\n",
    "idx = final_df[final_df['original_title'] == movies ].index\n",
    "    \n",
    "text_10 = pd.Series(cos_sim_text[idx][0]).sort_values(ascending=False)[:10]\n",
    "text_idx = text_10.index\n",
    "text_recom_idx = (text_10 + final_df['final_numeric_weights'].loc[text_idx]).sort_values(ascending=False).index\n",
    "#cast_recom = final_df.loc[cast_idx]\n",
    "#print(list(final_df.loc[cast_recom_idx]))\n",
    "final_df.loc[text_recom_idx]"
   ]
  },
  {
   "cell_type": "code",
   "execution_count": 43,
   "metadata": {},
   "outputs": [],
   "source": [
    "final_df.reindex?"
   ]
  },
  {
   "cell_type": "markdown",
   "metadata": {},
   "source": [
    "# Category wise vectorised"
   ]
  },
  {
   "cell_type": "code",
   "execution_count": 44,
   "metadata": {},
   "outputs": [],
   "source": [
    "#Genre Vectoriser\n",
    "cv = CountVectorizer(ngram_range=(1,1))\n",
    "genre_vectorised = cv.fit_transform(final_df['genres']).toarray()\n",
    "# Director Vectoriser\n",
    "cv2 = CountVectorizer(ngram_range=(2,3))\n",
    "director_vectorised = cv.fit_transform(final_df['director']).toarray()\n",
    "# Cast Vectoriser\n",
    "cv3 = CountVectorizer(ngram_range=(2,3))\n",
    "cast_vectorised = cv.fit_transform(final_df['cast']).toarray()\n",
    "\n",
    "#Cosine Similarities\n",
    "cos_sim_genre = cosine_similarity(genre_vectorised, genre_vectorised)\n",
    "cos_sim_director = cosine_similarity(director_vectorised, director_vectorised)\n",
    "cos_sim_cast = cosine_similarity(cast_vectorised, cast_vectorised)"
   ]
  },
  {
   "cell_type": "code",
   "execution_count": 45,
   "metadata": {},
   "outputs": [
    {
     "name": "stdout",
     "output_type": "stream",
     "text": [
      "[[1 1 0 ... 0 0 0]\n",
      " [1 1 0 ... 0 0 0]\n",
      " [0 1 0 ... 0 0 0]\n",
      " ...\n",
      " [0 0 0 ... 0 0 0]\n",
      " [0 0 0 ... 0 0 0]\n",
      " [0 0 0 ... 0 0 0]]\n"
     ]
    }
   ],
   "source": [
    "print(genre_vectorised)"
   ]
  },
  {
   "cell_type": "code",
   "execution_count": null,
   "metadata": {},
   "outputs": [],
   "source": [
    "#final_df[final_df['original_title'] == '3 idiots']\n",
    "# list(final_df[final_df['director'] == 'colin trevorrow']['original_title'])"
   ]
  },
  {
   "cell_type": "markdown",
   "metadata": {},
   "source": [
    "# Adding weight of Numerical data like profit etc to cosine similarity to get an overall weight involving all factors"
   ]
  },
  {
   "cell_type": "code",
   "execution_count": 46,
   "metadata": {},
   "outputs": [
    {
     "data": {
      "text/plain": [
       "0    1.768\n",
       "1    1.496\n",
       "2    0.684\n",
       "Name: final_numeric_weights, dtype: float64"
      ]
     },
     "execution_count": 46,
     "metadata": {},
     "output_type": "execute_result"
    }
   ],
   "source": [
    "idx =  [0, 1, 2]\n",
    "final_df['final_numeric_weights'].loc[idx]"
   ]
  },
  {
   "cell_type": "code",
   "execution_count": 47,
   "metadata": {},
   "outputs": [
    {
     "ename": "IndexError",
     "evalue": "index 6966 is out of bounds for axis 0 with size 2769",
     "output_type": "error",
     "traceback": [
      "\u001b[1;31m---------------------------------------------------------------------------\u001b[0m",
      "\u001b[1;31mIndexError\u001b[0m                                Traceback (most recent call last)",
      "\u001b[1;32m~\\AppData\\Local\\Temp\\ipykernel_11048\\2341827817.py\u001b[0m in \u001b[0;36m<module>\u001b[1;34m\u001b[0m\n\u001b[0;32m     26\u001b[0m   \u001b[1;31m#print(final_df['original_title'].loc[final][:10])\u001b[0m\u001b[1;33m\u001b[0m\u001b[1;33m\u001b[0m\u001b[0m\n\u001b[0;32m     27\u001b[0m \u001b[1;33m\u001b[0m\u001b[0m\n\u001b[1;32m---> 28\u001b[1;33m \u001b[0mrecommendation\u001b[0m\u001b[1;33m(\u001b[0m\u001b[1;34m'the notebook'\u001b[0m\u001b[1;33m)\u001b[0m\u001b[1;33m\u001b[0m\u001b[1;33m\u001b[0m\u001b[0m\n\u001b[0m",
      "\u001b[1;32m~\\AppData\\Local\\Temp\\ipykernel_11048\\2341827817.py\u001b[0m in \u001b[0;36mrecommendation\u001b[1;34m(movies)\u001b[0m\n\u001b[0;32m      3\u001b[0m   \u001b[0midx\u001b[0m \u001b[1;33m=\u001b[0m \u001b[0mfinal_df\u001b[0m\u001b[1;33m[\u001b[0m\u001b[0mfinal_df\u001b[0m\u001b[1;33m[\u001b[0m\u001b[1;34m'original_title'\u001b[0m\u001b[1;33m]\u001b[0m \u001b[1;33m==\u001b[0m \u001b[0mmovies\u001b[0m \u001b[1;33m]\u001b[0m\u001b[1;33m.\u001b[0m\u001b[0mindex\u001b[0m\u001b[1;33m\u001b[0m\u001b[1;33m\u001b[0m\u001b[0m\n\u001b[0;32m      4\u001b[0m \u001b[1;33m\u001b[0m\u001b[0m\n\u001b[1;32m----> 5\u001b[1;33m   \u001b[0mcasts\u001b[0m \u001b[1;33m=\u001b[0m \u001b[0mpd\u001b[0m\u001b[1;33m.\u001b[0m\u001b[0mSeries\u001b[0m\u001b[1;33m(\u001b[0m\u001b[0mcos_sim_cast\u001b[0m\u001b[1;33m[\u001b[0m\u001b[0midx\u001b[0m\u001b[1;33m]\u001b[0m\u001b[1;33m[\u001b[0m\u001b[1;36m0\u001b[0m\u001b[1;33m]\u001b[0m\u001b[1;33m)\u001b[0m\u001b[1;33m.\u001b[0m\u001b[0msort_values\u001b[0m\u001b[1;33m(\u001b[0m\u001b[0mascending\u001b[0m\u001b[1;33m=\u001b[0m\u001b[1;32mFalse\u001b[0m\u001b[1;33m)\u001b[0m\u001b[1;33m\u001b[0m\u001b[1;33m\u001b[0m\u001b[0m\n\u001b[0m\u001b[0;32m      6\u001b[0m   \u001b[0mcasts\u001b[0m \u001b[1;33m=\u001b[0m \u001b[0mcasts\u001b[0m\u001b[1;33m[\u001b[0m\u001b[0mcasts\u001b[0m \u001b[1;33m>=\u001b[0m \u001b[1;36m0.49\u001b[0m\u001b[1;33m]\u001b[0m\u001b[1;33m\u001b[0m\u001b[1;33m\u001b[0m\u001b[0m\n\u001b[0;32m      7\u001b[0m   \u001b[0mcast_idx\u001b[0m \u001b[1;33m=\u001b[0m \u001b[0mcasts\u001b[0m\u001b[1;33m.\u001b[0m\u001b[0mindex\u001b[0m\u001b[1;33m\u001b[0m\u001b[1;33m\u001b[0m\u001b[0m\n",
      "\u001b[1;31mIndexError\u001b[0m: index 6966 is out of bounds for axis 0 with size 2769"
     ]
    }
   ],
   "source": [
    "  def recommendation(movies):\n",
    "    \n",
    "    idx = final_df[final_df['original_title'] == movies ].index\n",
    "    \n",
    "    casts = pd.Series(cos_sim_cast[idx][0]).sort_values(ascending=False)\n",
    "    casts = casts[casts >= 0.49]\n",
    "    cast_idx = casts.index \n",
    "    cast_recom_idx = (casts + final_df['final_numeric_weights'].loc[cast_idx]).sort_values(ascending=False).index\n",
    "    cast_recom = final_df['original_title'].loc[cast_recom_idx]\n",
    "    \n",
    "    genres = pd.Series(cos_sim_genre[idx][0]).sort_values(ascending=False)[:10]\n",
    "    genres = genres[genres >= 0.49]\n",
    "    genre_idx = genres.index\n",
    "    genre_recom = final_df['original_title'].loc[genre_idx]\n",
    "    \n",
    "    directors = pd.Series(cos_sim_director[idx][0]).sort_values(ascending=False)[:10]\n",
    "    directors = directors[directors >= 0.49]\n",
    "    director_idx = directors.index \n",
    "    director_recom_idx = (directors + final_df['final_numeric_weights'].loc[director_idx]).sort_values(ascending=False).index\n",
    "    director_recom = final_df['original_title'].loc[director_recom_idx]\n",
    "    \n",
    "    print(casts)\n",
    "    print(genres)\n",
    "    print(directors)\n",
    "    #final = pd.Series(list(cast_recom_idx) + list(director_recom_idx) + list(genre_idx)).sort_values(ascending=False).index\n",
    "    #print(final_df['original_title'].loc[final][:10])\n",
    "    \n",
    "recommendation('the notebook')"
   ]
  },
  {
   "cell_type": "code",
   "execution_count": 50,
   "metadata": {},
   "outputs": [
    {
     "name": "stdout",
     "output_type": "stream",
     "text": [
      "h\n"
     ]
    }
   ],
   "source": [
    "x= 10\n",
    "if x >= 10:\n",
    "    print('h')"
   ]
  },
  {
   "cell_type": "code",
   "execution_count": 48,
   "metadata": {},
   "outputs": [
    {
     "data": {
      "text/html": [
       "<div>\n",
       "<style scoped>\n",
       "    .dataframe tbody tr th:only-of-type {\n",
       "        vertical-align: middle;\n",
       "    }\n",
       "\n",
       "    .dataframe tbody tr th {\n",
       "        vertical-align: top;\n",
       "    }\n",
       "\n",
       "    .dataframe thead th {\n",
       "        text-align: right;\n",
       "    }\n",
       "</style>\n",
       "<table border=\"1\" class=\"dataframe\">\n",
       "  <thead>\n",
       "    <tr style=\"text-align: right;\">\n",
       "      <th></th>\n",
       "      <th>original_title</th>\n",
       "      <th>cast</th>\n",
       "      <th>director</th>\n",
       "      <th>keywords</th>\n",
       "      <th>genres</th>\n",
       "      <th>imdb_id</th>\n",
       "      <th>final_numeric_weights</th>\n",
       "      <th>text</th>\n",
       "    </tr>\n",
       "  </thead>\n",
       "  <tbody>\n",
       "    <tr>\n",
       "      <th>6966</th>\n",
       "      <td>the notebook</td>\n",
       "      <td>rachelmcadams ryangosling genarowlands jamesga...</td>\n",
       "      <td>nickcassavetes</td>\n",
       "      <td>poem river sadness fight loveofone'slife</td>\n",
       "      <td>romance drama</td>\n",
       "      <td>tt0332280</td>\n",
       "      <td>0.856</td>\n",
       "      <td>rachelmcadams ryangosling genarowlands jamesga...</td>\n",
       "    </tr>\n",
       "  </tbody>\n",
       "</table>\n",
       "</div>"
      ],
      "text/plain": [
       "     original_title                                               cast  \\\n",
       "6966   the notebook  rachelmcadams ryangosling genarowlands jamesga...   \n",
       "\n",
       "            director                                  keywords         genres  \\\n",
       "6966  nickcassavetes  poem river sadness fight loveofone'slife  romance drama   \n",
       "\n",
       "        imdb_id  final_numeric_weights  \\\n",
       "6966  tt0332280                  0.856   \n",
       "\n",
       "                                                   text  \n",
       "6966  rachelmcadams ryangosling genarowlands jamesga...  "
      ]
     },
     "execution_count": 48,
     "metadata": {},
     "output_type": "execute_result"
    }
   ],
   "source": [
    "final_df[final_df['original_title'] == 'the notebook']"
   ]
  },
  {
   "cell_type": "code",
   "execution_count": 49,
   "metadata": {},
   "outputs": [
    {
     "data": {
      "text/html": [
       "<div>\n",
       "<style scoped>\n",
       "    .dataframe tbody tr th:only-of-type {\n",
       "        vertical-align: middle;\n",
       "    }\n",
       "\n",
       "    .dataframe tbody tr th {\n",
       "        vertical-align: top;\n",
       "    }\n",
       "\n",
       "    .dataframe thead th {\n",
       "        text-align: right;\n",
       "    }\n",
       "</style>\n",
       "<table border=\"1\" class=\"dataframe\">\n",
       "  <thead>\n",
       "    <tr style=\"text-align: right;\">\n",
       "      <th></th>\n",
       "      <th>original_title</th>\n",
       "      <th>cast</th>\n",
       "      <th>director</th>\n",
       "      <th>keywords</th>\n",
       "      <th>genres</th>\n",
       "      <th>imdb_id</th>\n",
       "      <th>final_numeric_weights</th>\n",
       "      <th>text</th>\n",
       "    </tr>\n",
       "  </thead>\n",
       "  <tbody>\n",
       "    <tr>\n",
       "      <th>0</th>\n",
       "      <td>jurassic world</td>\n",
       "      <td>chrispratt brycedallashoward irrfankhan vincen...</td>\n",
       "      <td>colintrevorrow</td>\n",
       "      <td>monster dna tyrannosaurusrex velociraptor island</td>\n",
       "      <td>action adventure sciencefiction thriller</td>\n",
       "      <td>tt0369610</td>\n",
       "      <td>1.768</td>\n",
       "      <td>chrispratt brycedallashoward irrfankhan vincen...</td>\n",
       "    </tr>\n",
       "  </tbody>\n",
       "</table>\n",
       "</div>"
      ],
      "text/plain": [
       "   original_title                                               cast  \\\n",
       "0  jurassic world  chrispratt brycedallashoward irrfankhan vincen...   \n",
       "\n",
       "         director                                          keywords  \\\n",
       "0  colintrevorrow  monster dna tyrannosaurusrex velociraptor island   \n",
       "\n",
       "                                     genres    imdb_id  final_numeric_weights  \\\n",
       "0  action adventure sciencefiction thriller  tt0369610                  1.768   \n",
       "\n",
       "                                                text  \n",
       "0  chrispratt brycedallashoward irrfankhan vincen...  "
      ]
     },
     "execution_count": 49,
     "metadata": {},
     "output_type": "execute_result"
    }
   ],
   "source": [
    "final_df[final_df['original_title'] == 'jurassic world']"
   ]
  },
  {
   "cell_type": "code",
   "execution_count": null,
   "metadata": {},
   "outputs": [],
   "source": []
  }
 ],
 "metadata": {
  "kernelspec": {
   "display_name": "Python 3 (ipykernel)",
   "language": "python",
   "name": "python3"
  },
  "language_info": {
   "codemirror_mode": {
    "name": "ipython",
    "version": 3
   },
   "file_extension": ".py",
   "mimetype": "text/x-python",
   "name": "python",
   "nbconvert_exporter": "python",
   "pygments_lexer": "ipython3",
   "version": "3.9.13"
  }
 },
 "nbformat": 4,
 "nbformat_minor": 2
}
